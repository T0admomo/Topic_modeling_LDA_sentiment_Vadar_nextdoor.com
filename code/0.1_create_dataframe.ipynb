{
 "cells": [
  {
   "cell_type": "markdown",
   "metadata": {},
   "source": [
    "# Data_Cleaninig__\n",
    "___\n",
    "___"
   ]
  },
  {
   "cell_type": "markdown",
   "metadata": {},
   "source": [
    "\n",
    "\n",
    "The web-scrape of this data was partially monitored and throughout that process I took note of persistently irrelevant results concerning Walmart and Pets. \n",
    "The initial exploration was conducted by examining proportions of posts containing lists of keywords to check for topic overlap and identify ways to reduce our dataframes dimensionality by dropping irrelevant content.  \n",
    "\n",
    "|---|Homeless|Wal-mart|Pet's|\n",
    "|---|---|---|---|\n",
    "|posts|305|57|128|\n",
    "|P_t|28%|5%|12%|\n",
    "|Containing Homeless|---| 1 | 27 |\n",
    "\n",
    "\n",
    "|Homeless| Wal-Mart  | Pet's |\n",
    "|---|---|---|   \n",
    "|'homeless'|'walmart'|'cat'|\n",
    "|'unhoused'|'wal-mart'|'dog'|\n",
    "|'vagrant'||'pet'|\n",
    "|'squatter'|\n",
    "|'sos'|\n",
    "|'encampment'|\n",
    " \n",
    "\n",
    "## Wal-mart\n",
    "Nextdoor.com has a marketing partnership with Walmart that is likely to blame for the extraneous content of this nature. The results of our cleaning and exploration below supported the decision to remove all posts containing mention of Walmart from the data before applying the topic modeling. This lends a semi-supervised quality to our process, but removing advertisements or brand mentions in this way would not be difficult at scale. \n",
    "\n",
    "## Pet's\n",
    "Post's concerning pets were very consistent, we will need to be careful with dealing with this topic as pet ownership is a frequently discussed topic in discussions of homelessness in the greater Denver area. Our exploration below confirmed our suspicions of this. With 27% of posts containing mention of pets also including referenced to homelessness. We will need to do a round of topic modeling in order to filter this and any remaining irrelevant content.\n",
    "\n",
    "___\n",
    "___"
   ]
  },
  {
   "cell_type": "code",
   "execution_count": 1,
   "metadata": {},
   "outputs": [],
   "source": [
    "from myfunct import *\n",
    "import pandas as pd \n",
    "import numpy as np \n",
    "import matplotlib.pyplot as plt "
   ]
  },
  {
   "cell_type": "code",
   "execution_count": 2,
   "metadata": {},
   "outputs": [],
   "source": [
    "user_1_posts = pd.read_csv('../data/user_data/vol_1_posts.csv', index_col = None)\n",
    "user_1_com = pd.read_csv('../data/user_data/vol_1_comments.csv')"
   ]
  },
  {
   "cell_type": "code",
   "execution_count": 3,
   "metadata": {},
   "outputs": [],
   "source": [
    "user_2_posts = pd.read_csv('../data/user_data/vol_2_posts.csv', index_col = None)\n",
    "user_2_com = pd.read_csv('../data/user_data/vol_1_comments.csv')"
   ]
  },
  {
   "cell_type": "markdown",
   "metadata": {},
   "source": [
    "___\n",
    "___\n",
    "# User Posts\n",
    "___\n",
    "___"
   ]
  },
  {
   "cell_type": "markdown",
   "metadata": {},
   "source": [
    "## User 1 "
   ]
  },
  {
   "cell_type": "code",
   "execution_count": 4,
   "metadata": {},
   "outputs": [
    {
     "name": "stdout",
     "output_type": "stream",
     "text": [
      "455 posts from User 1.\n"
     ]
    },
    {
     "data": {
      "text/html": [
       "<div>\n",
       "<style scoped>\n",
       "    .dataframe tbody tr th:only-of-type {\n",
       "        vertical-align: middle;\n",
       "    }\n",
       "\n",
       "    .dataframe tbody tr th {\n",
       "        vertical-align: top;\n",
       "    }\n",
       "\n",
       "    .dataframe thead th {\n",
       "        text-align: right;\n",
       "    }\n",
       "</style>\n",
       "<table border=\"1\" class=\"dataframe\">\n",
       "  <thead>\n",
       "    <tr style=\"text-align: right;\">\n",
       "      <th></th>\n",
       "      <th>Unnamed: 0</th>\n",
       "      <th>post_id</th>\n",
       "      <th>author</th>\n",
       "      <th>location</th>\n",
       "      <th>date</th>\n",
       "      <th>post</th>\n",
       "    </tr>\n",
       "  </thead>\n",
       "  <tbody>\n",
       "    <tr>\n",
       "      <th>0</th>\n",
       "      <td>0</td>\n",
       "      <td>186113992</td>\n",
       "      <td>News</td>\n",
       "      <td>NaN</td>\n",
       "      <td>NaN</td>\n",
       "      <td>Park Hill residents sue to stop legal homeless...</td>\n",
       "    </tr>\n",
       "    <tr>\n",
       "      <th>1</th>\n",
       "      <td>1</td>\n",
       "      <td>185885904</td>\n",
       "      <td>News</td>\n",
       "      <td>NaN</td>\n",
       "      <td>NaN</td>\n",
       "      <td>Regis University will host Denver's next safe ...</td>\n",
       "    </tr>\n",
       "    <tr>\n",
       "      <th>2</th>\n",
       "      <td>2</td>\n",
       "      <td>183301151</td>\n",
       "      <td>Sara Lange</td>\n",
       "      <td>South Park Hill</td>\n",
       "      <td>12 Apr</td>\n",
       "      <td>Homeless Encampment Near You! If you thought t...</td>\n",
       "    </tr>\n",
       "  </tbody>\n",
       "</table>\n",
       "</div>"
      ],
      "text/plain": [
       "   Unnamed: 0    post_id      author         location    date  \\\n",
       "0           0  186113992        News              NaN     NaN   \n",
       "1           1  185885904        News              NaN     NaN   \n",
       "2           2  183301151  Sara Lange  South Park Hill  12 Apr   \n",
       "\n",
       "                                                post  \n",
       "0  Park Hill residents sue to stop legal homeless...  \n",
       "1  Regis University will host Denver's next safe ...  \n",
       "2  Homeless Encampment Near You! If you thought t...  "
      ]
     },
     "execution_count": 4,
     "metadata": {},
     "output_type": "execute_result"
    }
   ],
   "source": [
    "print(f'{user_1_posts.shape[0]} posts from User 1.')\n",
    "user_1_posts.head(3)"
   ]
  },
  {
   "cell_type": "markdown",
   "metadata": {},
   "source": [
    "## User 2 "
   ]
  },
  {
   "cell_type": "code",
   "execution_count": 5,
   "metadata": {},
   "outputs": [
    {
     "name": "stdout",
     "output_type": "stream",
     "text": [
      "629 posts from User 2.\n"
     ]
    },
    {
     "data": {
      "text/html": [
       "<div>\n",
       "<style scoped>\n",
       "    .dataframe tbody tr th:only-of-type {\n",
       "        vertical-align: middle;\n",
       "    }\n",
       "\n",
       "    .dataframe tbody tr th {\n",
       "        vertical-align: top;\n",
       "    }\n",
       "\n",
       "    .dataframe thead th {\n",
       "        text-align: right;\n",
       "    }\n",
       "</style>\n",
       "<table border=\"1\" class=\"dataframe\">\n",
       "  <thead>\n",
       "    <tr style=\"text-align: right;\">\n",
       "      <th></th>\n",
       "      <th>Unnamed: 0</th>\n",
       "      <th>post_id</th>\n",
       "      <th>author</th>\n",
       "      <th>location</th>\n",
       "      <th>date</th>\n",
       "      <th>post</th>\n",
       "    </tr>\n",
       "  </thead>\n",
       "  <tbody>\n",
       "    <tr>\n",
       "      <th>0</th>\n",
       "      <td>0</td>\n",
       "      <td>186113992</td>\n",
       "      <td>News</td>\n",
       "      <td>NaN</td>\n",
       "      <td>NaN</td>\n",
       "      <td>Park Hill residents sue to stop legal homeless...</td>\n",
       "    </tr>\n",
       "    <tr>\n",
       "      <th>1</th>\n",
       "      <td>1</td>\n",
       "      <td>185885904</td>\n",
       "      <td>News</td>\n",
       "      <td>NaN</td>\n",
       "      <td>NaN</td>\n",
       "      <td>Regis University will host Denver's next safe ...</td>\n",
       "    </tr>\n",
       "    <tr>\n",
       "      <th>2</th>\n",
       "      <td>2</td>\n",
       "      <td>183301151</td>\n",
       "      <td>Sara Lange</td>\n",
       "      <td>South Park Hill</td>\n",
       "      <td>12 Apr</td>\n",
       "      <td>Homeless Encampment Near You! If you thought t...</td>\n",
       "    </tr>\n",
       "  </tbody>\n",
       "</table>\n",
       "</div>"
      ],
      "text/plain": [
       "   Unnamed: 0    post_id      author         location    date  \\\n",
       "0           0  186113992        News              NaN     NaN   \n",
       "1           1  185885904        News              NaN     NaN   \n",
       "2           2  183301151  Sara Lange  South Park Hill  12 Apr   \n",
       "\n",
       "                                                post  \n",
       "0  Park Hill residents sue to stop legal homeless...  \n",
       "1  Regis University will host Denver's next safe ...  \n",
       "2  Homeless Encampment Near You! If you thought t...  "
      ]
     },
     "execution_count": 5,
     "metadata": {},
     "output_type": "execute_result"
    }
   ],
   "source": [
    "print(f'{user_2_posts.shape[0]} posts from User 2.')\n",
    "user_2_posts.head(3)"
   ]
  },
  {
   "cell_type": "markdown",
   "metadata": {},
   "source": [
    "___\n",
    "___\n",
    "## Merging User Posts\n",
    "___\n",
    "___"
   ]
  },
  {
   "cell_type": "markdown",
   "metadata": {},
   "source": [
    "Notice that the post Id's change format from one dataframe to the next, this is a byproduct of Nextdoor.com loading differently for different users. The two users we pulled from have 1 neighbourhood in their Nextdoor Regions that overlaps, we can see from the first post in either dataset that we do in fact have some duplicate to take care of. We wont be able to use the post id column for this, but that is ok, we have clean texts so any duplicate posts should match exactly."
   ]
  },
  {
   "cell_type": "code",
   "execution_count": 6,
   "metadata": {},
   "outputs": [
    {
     "name": "stdout",
     "output_type": "stream",
     "text": [
      "Shape Before Duplicate Dropping: 1084\n"
     ]
    }
   ],
   "source": [
    "print(f'Shape Before Duplicate Dropping: {user_1_posts.shape[0] + user_2_posts.shape[0]}')"
   ]
  },
  {
   "cell_type": "code",
   "execution_count": 7,
   "metadata": {},
   "outputs": [],
   "source": [
    "user_posts = [user_1_posts, user_2_posts]\n",
    "posts_df = pd.concat(user_posts, ignore_index=True)\n",
    "posts_df.drop_duplicates(subset = 'post_id', keep='last', inplace = True)"
   ]
  },
  {
   "cell_type": "code",
   "execution_count": 8,
   "metadata": {},
   "outputs": [
    {
     "name": "stdout",
     "output_type": "stream",
     "text": [
      "Shape After Duplicate Dropping: 933\n"
     ]
    }
   ],
   "source": [
    "print(f'Shape After Duplicate Dropping: {posts_df.shape[0]}')"
   ]
  },
  {
   "cell_type": "code",
   "execution_count": 9,
   "metadata": {},
   "outputs": [],
   "source": [
    "nlp = spacy.load('en_core_web_lg', diasble = ['parser','ner'])"
   ]
  },
  {
   "cell_type": "code",
   "execution_count": 10,
   "metadata": {},
   "outputs": [],
   "source": [
    "posts = posts_df['post']"
   ]
  },
  {
   "cell_type": "code",
   "execution_count": 11,
   "metadata": {},
   "outputs": [],
   "source": [
    "lemma_posts = lemmatization(posts)"
   ]
  },
  {
   "cell_type": "code",
   "execution_count": 12,
   "metadata": {},
   "outputs": [],
   "source": [
    "posts_df['lemma'] = [ post for post in lemma_posts]"
   ]
  },
  {
   "cell_type": "code",
   "execution_count": 13,
   "metadata": {},
   "outputs": [
    {
     "data": {
      "text/html": [
       "<div>\n",
       "<style scoped>\n",
       "    .dataframe tbody tr th:only-of-type {\n",
       "        vertical-align: middle;\n",
       "    }\n",
       "\n",
       "    .dataframe tbody tr th {\n",
       "        vertical-align: top;\n",
       "    }\n",
       "\n",
       "    .dataframe thead th {\n",
       "        text-align: right;\n",
       "    }\n",
       "</style>\n",
       "<table border=\"1\" class=\"dataframe\">\n",
       "  <thead>\n",
       "    <tr style=\"text-align: right;\">\n",
       "      <th></th>\n",
       "      <th>Unnamed: 0</th>\n",
       "      <th>post_id</th>\n",
       "      <th>author</th>\n",
       "      <th>location</th>\n",
       "      <th>date</th>\n",
       "      <th>post</th>\n",
       "      <th>lemma</th>\n",
       "    </tr>\n",
       "  </thead>\n",
       "  <tbody>\n",
       "    <tr>\n",
       "      <th>4</th>\n",
       "      <td>4</td>\n",
       "      <td>182941686</td>\n",
       "      <td>Beth Daoud</td>\n",
       "      <td>Congress Park</td>\n",
       "      <td>9 Apr</td>\n",
       "      <td>Squatters Camp. Am I the only one outraged by ...</td>\n",
       "      <td>outrage new squatter camp go 14th let allow ha...</td>\n",
       "    </tr>\n",
       "    <tr>\n",
       "      <th>5</th>\n",
       "      <td>5</td>\n",
       "      <td>184828873</td>\n",
       "      <td>Darja Pisorn</td>\n",
       "      <td>Mayfair</td>\n",
       "      <td>26 Apr</td>\n",
       "      <td>Strange squirrel activity. Hey neighbors! Hopi...</td>\n",
       "      <td>strange squirrel activity neighbor hope help f...</td>\n",
       "    </tr>\n",
       "    <tr>\n",
       "      <th>7</th>\n",
       "      <td>7</td>\n",
       "      <td>183611885</td>\n",
       "      <td>Crystal Weaver</td>\n",
       "      <td>City Park</td>\n",
       "      <td>15 Apr</td>\n",
       "      <td>Fires around town. Someone just tried to set t...</td>\n",
       "      <td>fire town try set tree house vicinity fire gas...</td>\n",
       "    </tr>\n",
       "    <tr>\n",
       "      <th>9</th>\n",
       "      <td>9</td>\n",
       "      <td>184321665</td>\n",
       "      <td>Bryn Creager</td>\n",
       "      <td>Congress Park</td>\n",
       "      <td>21 Apr</td>\n",
       "      <td>Brake in. On 4/19/21 at 2:05 AM a man broke in...</td>\n",
       "      <td>brake man break car park 6th steal garage door...</td>\n",
       "    </tr>\n",
       "    <tr>\n",
       "      <th>10</th>\n",
       "      <td>10</td>\n",
       "      <td>184972043</td>\n",
       "      <td>Deb Christian</td>\n",
       "      <td>Hudson Street</td>\n",
       "      <td>27 Apr</td>\n",
       "      <td>It’s this whole thing of changing the housing ...</td>\n",
       "      <td>thing change housing code ask need</td>\n",
       "    </tr>\n",
       "    <tr>\n",
       "      <th>...</th>\n",
       "      <td>...</td>\n",
       "      <td>...</td>\n",
       "      <td>...</td>\n",
       "      <td>...</td>\n",
       "      <td>...</td>\n",
       "      <td>...</td>\n",
       "      <td>...</td>\n",
       "    </tr>\n",
       "    <tr>\n",
       "      <th>1079</th>\n",
       "      <td>624</td>\n",
       "      <td>171163993</td>\n",
       "      <td>Dyron Manning</td>\n",
       "      <td>Montbello</td>\n",
       "      <td>17 Dec</td>\n",
       "      <td>Lost bulldogs. My Bulldogs got out of back yar...</td>\n",
       "      <td>lose bulldog bulldog get yard area white brown...</td>\n",
       "    </tr>\n",
       "    <tr>\n",
       "      <th>1080</th>\n",
       "      <td>625</td>\n",
       "      <td>150824551</td>\n",
       "      <td>Lexy Beltran</td>\n",
       "      <td>Northeast Park Hill</td>\n",
       "      <td>6 Jun</td>\n",
       "      <td>Patio chairs. Any one selling patio chairs or ...</td>\n",
       "      <td>patio chair sell patio chair know</td>\n",
       "    </tr>\n",
       "    <tr>\n",
       "      <th>1081</th>\n",
       "      <td>626</td>\n",
       "      <td>141292402</td>\n",
       "      <td>News</td>\n",
       "      <td>NaN</td>\n",
       "      <td>NaN</td>\n",
       "      <td>Denver sets sights on hundreds of respite room...</td>\n",
       "      <td>set sight hundred respite room people experien...</td>\n",
       "    </tr>\n",
       "    <tr>\n",
       "      <th>1082</th>\n",
       "      <td>627</td>\n",
       "      <td>170010698</td>\n",
       "      <td>Leoma Burnette</td>\n",
       "      <td>Montbello</td>\n",
       "      <td>6 Dec</td>\n",
       "      <td>Lost dogs. Ringo &amp; Trouble  been missing since...</td>\n",
       "      <td>lose dog miss yesterday evening</td>\n",
       "    </tr>\n",
       "    <tr>\n",
       "      <th>1083</th>\n",
       "      <td>628</td>\n",
       "      <td>151955996</td>\n",
       "      <td>Andrew Sweet</td>\n",
       "      <td>South Park Hill</td>\n",
       "      <td>17 Jun</td>\n",
       "      <td>Home Depot on Quebec st. Just FYI.  Though the...</td>\n",
       "      <td>employee compliant mask % customer maskless re...</td>\n",
       "    </tr>\n",
       "  </tbody>\n",
       "</table>\n",
       "<p>933 rows × 7 columns</p>\n",
       "</div>"
      ],
      "text/plain": [
       "      Unnamed: 0    post_id          author             location    date  \\\n",
       "4              4  182941686      Beth Daoud        Congress Park   9 Apr   \n",
       "5              5  184828873    Darja Pisorn              Mayfair  26 Apr   \n",
       "7              7  183611885  Crystal Weaver            City Park  15 Apr   \n",
       "9              9  184321665    Bryn Creager        Congress Park  21 Apr   \n",
       "10            10  184972043   Deb Christian        Hudson Street  27 Apr   \n",
       "...          ...        ...             ...                  ...     ...   \n",
       "1079         624  171163993   Dyron Manning            Montbello  17 Dec   \n",
       "1080         625  150824551    Lexy Beltran  Northeast Park Hill   6 Jun   \n",
       "1081         626  141292402            News                  NaN     NaN   \n",
       "1082         627  170010698  Leoma Burnette            Montbello   6 Dec   \n",
       "1083         628  151955996    Andrew Sweet      South Park Hill  17 Jun   \n",
       "\n",
       "                                                   post  \\\n",
       "4     Squatters Camp. Am I the only one outraged by ...   \n",
       "5     Strange squirrel activity. Hey neighbors! Hopi...   \n",
       "7     Fires around town. Someone just tried to set t...   \n",
       "9     Brake in. On 4/19/21 at 2:05 AM a man broke in...   \n",
       "10    It’s this whole thing of changing the housing ...   \n",
       "...                                                 ...   \n",
       "1079  Lost bulldogs. My Bulldogs got out of back yar...   \n",
       "1080  Patio chairs. Any one selling patio chairs or ...   \n",
       "1081  Denver sets sights on hundreds of respite room...   \n",
       "1082  Lost dogs. Ringo & Trouble  been missing since...   \n",
       "1083  Home Depot on Quebec st. Just FYI.  Though the...   \n",
       "\n",
       "                                                  lemma  \n",
       "4     outrage new squatter camp go 14th let allow ha...  \n",
       "5     strange squirrel activity neighbor hope help f...  \n",
       "7     fire town try set tree house vicinity fire gas...  \n",
       "9     brake man break car park 6th steal garage door...  \n",
       "10                   thing change housing code ask need  \n",
       "...                                                 ...  \n",
       "1079  lose bulldog bulldog get yard area white brown...  \n",
       "1080                  patio chair sell patio chair know  \n",
       "1081  set sight hundred respite room people experien...  \n",
       "1082                    lose dog miss yesterday evening  \n",
       "1083  employee compliant mask % customer maskless re...  \n",
       "\n",
       "[933 rows x 7 columns]"
      ]
     },
     "execution_count": 13,
     "metadata": {},
     "output_type": "execute_result"
    }
   ],
   "source": [
    "posts_df"
   ]
  },
  {
   "cell_type": "markdown",
   "metadata": {},
   "source": [
    "___\n",
    "___\n",
    "\n",
    "# EDA ___\n",
    "___\n",
    "___"
   ]
  },
  {
   "cell_type": "code",
   "execution_count": 14,
   "metadata": {},
   "outputs": [],
   "source": [
    "def count_containing(kwds,col,df):\n",
    "    # will be a dataframe of post containing the search terms\n",
    "    return_df = pd.DataFrame()\n",
    "    # count of mentions\n",
    "    m_count = 0 \n",
    "    for word in kwds:\n",
    "        posts = df[df[f'{col}'].str.lower().str.contains(word)].copy()\n",
    "        return_df = return_df.append(posts)\n",
    "        m_count += df[df[f'{col}'].str.lower().str.contains(f'{word}')].shape[0]\n",
    "    \n",
    "    return_df.drop_duplicates(inplace = True)\n",
    "    kwd_mentions =(m_count/df.shape[0])*100\n",
    "    print(f'''{m_count} posts containing{kwds}:\n",
    "    {kwd_mentions} of Posts''')\n",
    "    return return_df"
   ]
  },
  {
   "cell_type": "code",
   "execution_count": 15,
   "metadata": {},
   "outputs": [
    {
     "name": "stdout",
     "output_type": "stream",
     "text": [
      "204 posts containing[' homeless ', ' unhoused ', ' vagrant ', ' squatter ', ' sos ', ' encampment ']:\n",
      "    21.864951768488748 of Posts\n"
     ]
    }
   ],
   "source": [
    "homeless_words = [' homeless ',' unhoused ',' vagrant ',' squatter ',' sos ',' encampment ']\n",
    "homeless_posts = count_containing(homeless_words, 'lemma', posts_df)"
   ]
  },
  {
   "cell_type": "markdown",
   "metadata": {},
   "source": [
    "We see above that we have the number of posts in our corpus containing words pertaining to homelessness!"
   ]
  },
  {
   "cell_type": "markdown",
   "metadata": {},
   "source": [
    "With this function we will be able to inspect posts containing lists of keywords and return a count, percentage, and dataframe of posts containing the given words."
   ]
  },
  {
   "cell_type": "markdown",
   "metadata": {},
   "source": [
    "___\n",
    "___\n",
    "# Walmart Noise\n",
    "___\n",
    "___"
   ]
  },
  {
   "cell_type": "code",
   "execution_count": 16,
   "metadata": {},
   "outputs": [],
   "source": [
    "walmart_words = ['walmart','wal-mart']"
   ]
  },
  {
   "cell_type": "markdown",
   "metadata": {},
   "source": [
    "Nextdoor.com and Wal-mart have a bussiness partnership called neighbor helping neihgbor's intended to promote errand sharing durring the covid pandemic to assit the elderly or infirm. It would appear that as a product of this partnership, posts related to Walmart will appear no matter what term you query the Nextdoor site for. We need to look at how many of our posts that pertain to Walmart include mentions of Homelessness before we can decide how to handle these posts."
   ]
  },
  {
   "cell_type": "markdown",
   "metadata": {},
   "source": [
    "We are going to need to check for different spellings of the brand name , and to use the 'post' column, as Spacy does not recognize the name walmart and so will not have created lemma tokens for it."
   ]
  },
  {
   "cell_type": "markdown",
   "metadata": {},
   "source": [
    "## Count Walmart Mentions"
   ]
  },
  {
   "cell_type": "code",
   "execution_count": 17,
   "metadata": {},
   "outputs": [
    {
     "name": "stdout",
     "output_type": "stream",
     "text": [
      "48 posts containing['walmart', 'wal-mart']:\n",
      "    5.144694533762058 of Posts\n"
     ]
    }
   ],
   "source": [
    "walmart_posts = count_containing(walmart_words, 'post', posts_df)"
   ]
  },
  {
   "cell_type": "code",
   "execution_count": 18,
   "metadata": {
    "scrolled": true,
    "tags": []
   },
   "outputs": [
    {
     "data": {
      "text/plain": [
       "85      Keys found at Walmart... At Walmart Neighborho...\n",
       "132     COVID-19 Vaccination Documentation. I was wond...\n",
       "135     COVID vaccine. Just got an appointment for the...\n",
       "228     Cat Food Delivered to wrong address. Did anyon...\n",
       "234     free $20 Thanksgiving dinners from iBotta and ...\n",
       "277     Jan needing assistance. I am starting this thr...\n",
       "324     NON PROFIT TUESDAY. Hey All👋🏽👋🏽, im back at it...\n",
       "329     Stolen Wallet from Car. So, I woke up to a cal...\n",
       "334     Giving to Non-profits Tuesday. Hey All👋🏽👋🏽, im...\n",
       "336     Non-profit. Hey All👋🏽👋🏽, im back at it again f...\n",
       "350     Sodastream emergency! Where to exchange CO2 ca...\n",
       "382     LIGHT FILLED💛MULTI LEVEL HOME for rent in Arva...\n",
       "430     Items Found. Clorox bleach, Charmin toilet pap...\n",
       "445     ATTENTION TO THOSE WHO SUFFER FROM SLEEP APNEA...\n",
       "553     Walmart has appointments for the vax. Hey, nig...\n",
       "569     Hi neighbors. I’m isaac. 👋. work for walmart D...\n",
       "588     Labradoodles. Two of them just walked into Wal...\n",
       "598     Question for gig delivery drivers. I am specif...\n",
       "666     walmart pick up and deliver. https://www.click...\n",
       "677     Lysol/Clorox. If anyone is in need of Lysol sp...\n",
       "685     Refugee Christmas Wishlist. Dear neighbors - I...\n",
       "709     Misplaced Walmart Delivery. We found a Walmart...\n",
       "733     Lysol spray. If anyone is in need of Lysol spr...\n",
       "744     Fire near Walmart. Looks like someone burned s...\n",
       "756     BAKERY BOXES ? HI friends just wondering if an...\n",
       "757     BAKERY BOXES ? HI friends just wondering if an...\n",
       "766     Package addressed to K. Bivi. Hi neighbors. A ...\n",
       "768     Lost Dogs. There’s two lost dogs, one appears ...\n",
       "800     Lysol at Quebec walmart. It's around 745am on ...\n",
       "833     Seeking dry ice. I’m trying to find dry ice so...\n",
       "862     Walmart Heads Up. Just a heads up...Walmart on...\n",
       "872     Plastic recycling. Has anyone seen a plastic r...\n",
       "913     Food. I recently got scammed. Meanwhile I paid...\n",
       "920     Husky. There is a husky it looks like it’s a g...\n",
       "936     Stolen bike 🏍. Has anyone seen this bike was s...\n",
       "944     NON PROFIT FOSTER CARE. Hey All👋🏽👋🏽, im back a...\n",
       "997     Stapleton Walmart. Does anyone knows what’s go...\n",
       "1006    Walmart. Does anyone know what happened to the...\n",
       "1012    Gifts for Students. Hi, Neighbors!\\n\\nI am a t...\n",
       "1020    Desk for a 7th grader. Hi guys, so as most of ...\n",
       "1041    HEAVY Police presence at train tracks on Quebe...\n",
       "1045    Walmart Exposition and Abilene. Walmart just r...\n",
       "1048    Walmart on Smith Rd. Drove by just now and the...\n",
       "1053    Exposition Walmart. Is this Walmart now closed...\n",
       "1056    Wallet Stolen in Walmart. I just had my wallet...\n",
       "1072    A b c. Does anyone here know where to buy mold...\n",
       "1075    Any family owned / locally owned grocery store...\n",
       "218     CHRISTMAS Decorations. Hello all aside from th...\n",
       "Name: post, dtype: object"
      ]
     },
     "execution_count": 18,
     "metadata": {},
     "output_type": "execute_result"
    }
   ],
   "source": [
    "walmart_posts['post']"
   ]
  },
  {
   "cell_type": "markdown",
   "metadata": {},
   "source": [
    "## Inspect Walmart posts for mentions of Homelessness"
   ]
  },
  {
   "cell_type": "markdown",
   "metadata": {},
   "source": [
    "If mentions of the unhoused are fequently alongside mentions of Walmart than dropping all post including Walmart would alter our results in an undesirable way, Let's Check how many of the posts containing the 'Walmart' also pertain to the unhoused."
   ]
  },
  {
   "cell_type": "code",
   "execution_count": 19,
   "metadata": {},
   "outputs": [
    {
     "name": "stdout",
     "output_type": "stream",
     "text": [
      "0 posts containing[' homeless ', ' unhoused ', ' vagrant ', ' squatter ', ' sos ', ' encampment ']:\n",
      "    0.0 of Posts\n"
     ]
    }
   ],
   "source": [
    "walmart_homeless_posts = count_containing(homeless_words, 'post', walmart_posts)"
   ]
  },
  {
   "cell_type": "code",
   "execution_count": 20,
   "metadata": {},
   "outputs": [
    {
     "data": {
      "text/html": [
       "<div>\n",
       "<style scoped>\n",
       "    .dataframe tbody tr th:only-of-type {\n",
       "        vertical-align: middle;\n",
       "    }\n",
       "\n",
       "    .dataframe tbody tr th {\n",
       "        vertical-align: top;\n",
       "    }\n",
       "\n",
       "    .dataframe thead th {\n",
       "        text-align: right;\n",
       "    }\n",
       "</style>\n",
       "<table border=\"1\" class=\"dataframe\">\n",
       "  <thead>\n",
       "    <tr style=\"text-align: right;\">\n",
       "      <th></th>\n",
       "      <th>Unnamed: 0</th>\n",
       "      <th>post_id</th>\n",
       "      <th>author</th>\n",
       "      <th>location</th>\n",
       "      <th>date</th>\n",
       "      <th>post</th>\n",
       "      <th>lemma</th>\n",
       "    </tr>\n",
       "  </thead>\n",
       "  <tbody>\n",
       "    <tr>\n",
       "      <th>85</th>\n",
       "      <td>85</td>\n",
       "      <td>181361739</td>\n",
       "      <td>T.L. Ma</td>\n",
       "      <td>Hale</td>\n",
       "      <td>25 Mar</td>\n",
       "      <td>Keys found at Walmart... At Walmart Neighborho...</td>\n",
       "      <td>key find keychain give cashier</td>\n",
       "    </tr>\n",
       "    <tr>\n",
       "      <th>132</th>\n",
       "      <td>132</td>\n",
       "      <td>179416233</td>\n",
       "      <td>Sherry Johnson</td>\n",
       "      <td>Crestmoor/Mayfair Park</td>\n",
       "      <td>8 Mar</td>\n",
       "      <td>COVID-19 Vaccination Documentation. I was wond...</td>\n",
       "      <td>wonder need letter doctor state co- morbidity ...</td>\n",
       "    </tr>\n",
       "  </tbody>\n",
       "</table>\n",
       "</div>"
      ],
      "text/plain": [
       "     Unnamed: 0    post_id          author                location    date  \\\n",
       "85           85  181361739         T.L. Ma                    Hale  25 Mar   \n",
       "132         132  179416233  Sherry Johnson  Crestmoor/Mayfair Park   8 Mar   \n",
       "\n",
       "                                                  post  \\\n",
       "85   Keys found at Walmart... At Walmart Neighborho...   \n",
       "132  COVID-19 Vaccination Documentation. I was wond...   \n",
       "\n",
       "                                                 lemma  \n",
       "85                      key find keychain give cashier  \n",
       "132  wonder need letter doctor state co- morbidity ...  "
      ]
     },
     "execution_count": 20,
     "metadata": {},
     "output_type": "execute_result"
    }
   ],
   "source": [
    "walmart_posts.head(2)"
   ]
  },
  {
   "cell_type": "markdown",
   "metadata": {},
   "source": [
    "With such a small amount of overlap we can move forward confident that dropping all posts pertaining to Walmart is not likely to adversely affect our models reflection of reality in any way. We will now remove these posts from the DataFrame."
   ]
  },
  {
   "cell_type": "code",
   "execution_count": 21,
   "metadata": {},
   "outputs": [
    {
     "data": {
      "text/plain": [
       "933"
      ]
     },
     "execution_count": 21,
     "metadata": {},
     "output_type": "execute_result"
    }
   ],
   "source": [
    "posts_df.shape[0]"
   ]
  },
  {
   "cell_type": "code",
   "execution_count": 22,
   "metadata": {},
   "outputs": [],
   "source": [
    "posts_to_drop = pd.DataFrame()"
   ]
  },
  {
   "cell_type": "code",
   "execution_count": 23,
   "metadata": {},
   "outputs": [],
   "source": [
    "posts_to_drop = posts_to_drop.append(walmart_posts)"
   ]
  },
  {
   "cell_type": "code",
   "execution_count": 24,
   "metadata": {},
   "outputs": [],
   "source": [
    "def drop_posts(drop_words, col,df ):\n",
    "    for word in drop_words:\n",
    "        df = df[~df['post'].str.lower().str.contains(word)].copy()\n",
    "\n",
    "\n",
    "\n",
    "def drop_posts(drop_ids, col,df ):\n",
    "    for pid in drop_ids:\n",
    "        for i, p in enumerate(df['post_id']):\n",
    "            if pid == p:\n",
    "                try:\n",
    "                    df.drop(index = i, inplace = True)\n",
    "                except:\n",
    "                    pass\n",
    "    return df"
   ]
  },
  {
   "cell_type": "code",
   "execution_count": 25,
   "metadata": {},
   "outputs": [],
   "source": [
    "drop_ids = [ pid for pid in walmart_posts ]"
   ]
  },
  {
   "cell_type": "code",
   "execution_count": 26,
   "metadata": {},
   "outputs": [
    {
     "data": {
      "text/plain": [
       "(933, 8)"
      ]
     },
     "execution_count": 26,
     "metadata": {},
     "output_type": "execute_result"
    }
   ],
   "source": [
    "posts_df.reset_index(inplace = True)\n",
    "posts_df.shape"
   ]
  },
  {
   "cell_type": "markdown",
   "metadata": {},
   "source": [
    "___\n",
    "___\n",
    "# Pet Posts\n",
    "___\n",
    "___"
   ]
  },
  {
   "cell_type": "markdown",
   "metadata": {},
   "source": [
    "Here we need to inspect the 'lemma' column as their are many variations of the words we are looking for and Spacy should have recognized them all."
   ]
  },
  {
   "cell_type": "code",
   "execution_count": 27,
   "metadata": {},
   "outputs": [
    {
     "data": {
      "text/plain": [
       "(933, 8)"
      ]
     },
     "execution_count": 27,
     "metadata": {},
     "output_type": "execute_result"
    }
   ],
   "source": [
    "posts_df.shape"
   ]
  },
  {
   "cell_type": "code",
   "execution_count": 28,
   "metadata": {},
   "outputs": [],
   "source": [
    "pet_words = [' cat ',' dog ',' pet ',\" cat's \", \" dog's \", ' husky ',' kitty ',' kitten ']"
   ]
  },
  {
   "cell_type": "markdown",
   "metadata": {},
   "source": [
    "The function we wrote for counting and removing walmart posts doesnt seem to work here. We will need to leave the topic of pets to our unsupervised steps."
   ]
  },
  {
   "cell_type": "code",
   "execution_count": 29,
   "metadata": {},
   "outputs": [
    {
     "name": "stdout",
     "output_type": "stream",
     "text": [
      "177 posts containing[' cat ', ' dog ', ' pet ', \" cat's \", \" dog's \", ' husky ', ' kitty ', ' kitten ']:\n",
      "    18.971061093247588 of Posts\n"
     ]
    }
   ],
   "source": [
    "pet_posts = count_containing(pet_words, 'lemma', posts_df)"
   ]
  },
  {
   "cell_type": "code",
   "execution_count": 30,
   "metadata": {},
   "outputs": [
    {
     "name": "stdout",
     "output_type": "stream",
     "text": [
      "22 posts containing[' homeless ', ' unhoused ', ' vagrant ', ' squatter ', ' sos ', ' encampment ']:\n",
      "    15.492957746478872 of Posts\n"
     ]
    }
   ],
   "source": [
    "pet_homeless_posts = count_containing(homeless_words, 'post', pet_posts)"
   ]
  },
  {
   "cell_type": "code",
   "execution_count": 31,
   "metadata": {},
   "outputs": [],
   "source": [
    "posts_to_drop = posts_to_drop.append(pet_posts)"
   ]
  },
  {
   "cell_type": "code",
   "execution_count": 32,
   "metadata": {},
   "outputs": [
    {
     "data": {
      "text/plain": [
       "190"
      ]
     },
     "execution_count": 32,
     "metadata": {},
     "output_type": "execute_result"
    }
   ],
   "source": [
    "posts_to_drop.shape[0]"
   ]
  },
  {
   "cell_type": "code",
   "execution_count": 33,
   "metadata": {},
   "outputs": [
    {
     "data": {
      "text/plain": [
       "(933, 8)"
      ]
     },
     "execution_count": 33,
     "metadata": {},
     "output_type": "execute_result"
    }
   ],
   "source": [
    "posts_df.shape"
   ]
  },
  {
   "cell_type": "code",
   "execution_count": 34,
   "metadata": {},
   "outputs": [],
   "source": [
    "drop_post_id = [pid for pid in posts_to_drop['post_id']]"
   ]
  },
  {
   "cell_type": "code",
   "execution_count": 35,
   "metadata": {},
   "outputs": [],
   "source": [
    "for i, post_id in enumerate(posts_df['post_id']):\n",
    "    if post_id in drop_post_id:\n",
    "        posts_df.drop(index = i, inplace = True)"
   ]
  },
  {
   "cell_type": "code",
   "execution_count": 36,
   "metadata": {},
   "outputs": [
    {
     "data": {
      "text/html": [
       "<div>\n",
       "<style scoped>\n",
       "    .dataframe tbody tr th:only-of-type {\n",
       "        vertical-align: middle;\n",
       "    }\n",
       "\n",
       "    .dataframe tbody tr th {\n",
       "        vertical-align: top;\n",
       "    }\n",
       "\n",
       "    .dataframe thead th {\n",
       "        text-align: right;\n",
       "    }\n",
       "</style>\n",
       "<table border=\"1\" class=\"dataframe\">\n",
       "  <thead>\n",
       "    <tr style=\"text-align: right;\">\n",
       "      <th></th>\n",
       "      <th>index</th>\n",
       "      <th>Unnamed: 0</th>\n",
       "      <th>post_id</th>\n",
       "      <th>author</th>\n",
       "      <th>location</th>\n",
       "      <th>date</th>\n",
       "      <th>post</th>\n",
       "      <th>lemma</th>\n",
       "    </tr>\n",
       "  </thead>\n",
       "  <tbody>\n",
       "    <tr>\n",
       "      <th>0</th>\n",
       "      <td>4</td>\n",
       "      <td>4</td>\n",
       "      <td>182941686</td>\n",
       "      <td>Beth Daoud</td>\n",
       "      <td>Congress Park</td>\n",
       "      <td>9 Apr</td>\n",
       "      <td>Squatters Camp. Am I the only one outraged by ...</td>\n",
       "      <td>outrage new squatter camp go 14th let allow ha...</td>\n",
       "    </tr>\n",
       "    <tr>\n",
       "      <th>2</th>\n",
       "      <td>7</td>\n",
       "      <td>7</td>\n",
       "      <td>183611885</td>\n",
       "      <td>Crystal Weaver</td>\n",
       "      <td>City Park</td>\n",
       "      <td>15 Apr</td>\n",
       "      <td>Fires around town. Someone just tried to set t...</td>\n",
       "      <td>fire town try set tree house vicinity fire gas...</td>\n",
       "    </tr>\n",
       "    <tr>\n",
       "      <th>3</th>\n",
       "      <td>9</td>\n",
       "      <td>9</td>\n",
       "      <td>184321665</td>\n",
       "      <td>Bryn Creager</td>\n",
       "      <td>Congress Park</td>\n",
       "      <td>21 Apr</td>\n",
       "      <td>Brake in. On 4/19/21 at 2:05 AM a man broke in...</td>\n",
       "      <td>brake man break car park 6th steal garage door...</td>\n",
       "    </tr>\n",
       "    <tr>\n",
       "      <th>4</th>\n",
       "      <td>10</td>\n",
       "      <td>10</td>\n",
       "      <td>184972043</td>\n",
       "      <td>Deb Christian</td>\n",
       "      <td>Hudson Street</td>\n",
       "      <td>27 Apr</td>\n",
       "      <td>It’s this whole thing of changing the housing ...</td>\n",
       "      <td>thing change housing code ask need</td>\n",
       "    </tr>\n",
       "    <tr>\n",
       "      <th>5</th>\n",
       "      <td>11</td>\n",
       "      <td>11</td>\n",
       "      <td>185372613</td>\n",
       "      <td>Doug Bohm</td>\n",
       "      <td>Congress Park</td>\n",
       "      <td>1 May</td>\n",
       "      <td>Homeless tent ablaze burning car &amp; property. L...</td>\n",
       "      <td>homeless tent ablaze burn car property night a...</td>\n",
       "    </tr>\n",
       "    <tr>\n",
       "      <th>...</th>\n",
       "      <td>...</td>\n",
       "      <td>...</td>\n",
       "      <td>...</td>\n",
       "      <td>...</td>\n",
       "      <td>...</td>\n",
       "      <td>...</td>\n",
       "      <td>...</td>\n",
       "      <td>...</td>\n",
       "    </tr>\n",
       "    <tr>\n",
       "      <th>926</th>\n",
       "      <td>1077</td>\n",
       "      <td>622</td>\n",
       "      <td>133490918</td>\n",
       "      <td>Barbara Acker</td>\n",
       "      <td>Lowry</td>\n",
       "      <td>2 Jan 20</td>\n",
       "      <td>donations for refugees? Where can I donate odd...</td>\n",
       "      <td>donation refugee donate odd household item ref...</td>\n",
       "    </tr>\n",
       "    <tr>\n",
       "      <th>928</th>\n",
       "      <td>1079</td>\n",
       "      <td>624</td>\n",
       "      <td>171163993</td>\n",
       "      <td>Dyron Manning</td>\n",
       "      <td>Montbello</td>\n",
       "      <td>17 Dec</td>\n",
       "      <td>Lost bulldogs. My Bulldogs got out of back yar...</td>\n",
       "      <td>lose bulldog bulldog get yard area white brown...</td>\n",
       "    </tr>\n",
       "    <tr>\n",
       "      <th>929</th>\n",
       "      <td>1080</td>\n",
       "      <td>625</td>\n",
       "      <td>150824551</td>\n",
       "      <td>Lexy Beltran</td>\n",
       "      <td>Northeast Park Hill</td>\n",
       "      <td>6 Jun</td>\n",
       "      <td>Patio chairs. Any one selling patio chairs or ...</td>\n",
       "      <td>patio chair sell patio chair know</td>\n",
       "    </tr>\n",
       "    <tr>\n",
       "      <th>930</th>\n",
       "      <td>1081</td>\n",
       "      <td>626</td>\n",
       "      <td>141292402</td>\n",
       "      <td>News</td>\n",
       "      <td>NaN</td>\n",
       "      <td>NaN</td>\n",
       "      <td>Denver sets sights on hundreds of respite room...</td>\n",
       "      <td>set sight hundred respite room people experien...</td>\n",
       "    </tr>\n",
       "    <tr>\n",
       "      <th>932</th>\n",
       "      <td>1083</td>\n",
       "      <td>628</td>\n",
       "      <td>151955996</td>\n",
       "      <td>Andrew Sweet</td>\n",
       "      <td>South Park Hill</td>\n",
       "      <td>17 Jun</td>\n",
       "      <td>Home Depot on Quebec st. Just FYI.  Though the...</td>\n",
       "      <td>employee compliant mask % customer maskless re...</td>\n",
       "    </tr>\n",
       "  </tbody>\n",
       "</table>\n",
       "<p>747 rows × 8 columns</p>\n",
       "</div>"
      ],
      "text/plain": [
       "     index  Unnamed: 0    post_id          author             location  \\\n",
       "0        4           4  182941686      Beth Daoud        Congress Park   \n",
       "2        7           7  183611885  Crystal Weaver            City Park   \n",
       "3        9           9  184321665    Bryn Creager        Congress Park   \n",
       "4       10          10  184972043   Deb Christian        Hudson Street   \n",
       "5       11          11  185372613       Doug Bohm        Congress Park   \n",
       "..     ...         ...        ...             ...                  ...   \n",
       "926   1077         622  133490918   Barbara Acker                Lowry   \n",
       "928   1079         624  171163993   Dyron Manning            Montbello   \n",
       "929   1080         625  150824551    Lexy Beltran  Northeast Park Hill   \n",
       "930   1081         626  141292402            News                  NaN   \n",
       "932   1083         628  151955996    Andrew Sweet      South Park Hill   \n",
       "\n",
       "         date                                               post  \\\n",
       "0       9 Apr  Squatters Camp. Am I the only one outraged by ...   \n",
       "2      15 Apr  Fires around town. Someone just tried to set t...   \n",
       "3      21 Apr  Brake in. On 4/19/21 at 2:05 AM a man broke in...   \n",
       "4      27 Apr  It’s this whole thing of changing the housing ...   \n",
       "5       1 May  Homeless tent ablaze burning car & property. L...   \n",
       "..        ...                                                ...   \n",
       "926  2 Jan 20  donations for refugees? Where can I donate odd...   \n",
       "928    17 Dec  Lost bulldogs. My Bulldogs got out of back yar...   \n",
       "929     6 Jun  Patio chairs. Any one selling patio chairs or ...   \n",
       "930       NaN  Denver sets sights on hundreds of respite room...   \n",
       "932    17 Jun  Home Depot on Quebec st. Just FYI.  Though the...   \n",
       "\n",
       "                                                 lemma  \n",
       "0    outrage new squatter camp go 14th let allow ha...  \n",
       "2    fire town try set tree house vicinity fire gas...  \n",
       "3    brake man break car park 6th steal garage door...  \n",
       "4                   thing change housing code ask need  \n",
       "5    homeless tent ablaze burn car property night a...  \n",
       "..                                                 ...  \n",
       "926  donation refugee donate odd household item ref...  \n",
       "928  lose bulldog bulldog get yard area white brown...  \n",
       "929                  patio chair sell patio chair know  \n",
       "930  set sight hundred respite room people experien...  \n",
       "932  employee compliant mask % customer maskless re...  \n",
       "\n",
       "[747 rows x 8 columns]"
      ]
     },
     "execution_count": 36,
     "metadata": {},
     "output_type": "execute_result"
    }
   ],
   "source": [
    "posts_df"
   ]
  },
  {
   "cell_type": "code",
   "execution_count": 37,
   "metadata": {},
   "outputs": [],
   "source": [
    "posts_df.reset_index(inplace = True)"
   ]
  },
  {
   "cell_type": "markdown",
   "metadata": {},
   "source": [
    "Initially the 13% of pet posts also containing homeless keywords made me hesitant to drop the posts outright, but later topic modeling showed that the pet content added too much noise for our model to adequately separate from the target content. We remove these posts from the corpus above."
   ]
  },
  {
   "cell_type": "markdown",
   "metadata": {},
   "source": [
    "___\n",
    "___\n",
    "# User Comments\n",
    "___\n",
    "___"
   ]
  },
  {
   "cell_type": "markdown",
   "metadata": {},
   "source": [
    "Now we nee to merge the two comments dataframes and make sure that we remove all of the comments from posts about walmart that we removed before. Once this is finished we can export both of our cleaned dataframes. We will revisit this aspect of the process once we have assesed the results of our initial topic modeling! "
   ]
  },
  {
   "cell_type": "code",
   "execution_count": 38,
   "metadata": {},
   "outputs": [
    {
     "name": "stdout",
     "output_type": "stream",
     "text": [
      "Shape Before Duplicate Dropping: 14698\n"
     ]
    }
   ],
   "source": [
    "print(f'Shape Before Duplicate Dropping: {user_1_com.shape[0] + user_2_com.shape[0]}')"
   ]
  },
  {
   "cell_type": "code",
   "execution_count": 39,
   "metadata": {},
   "outputs": [],
   "source": [
    "user_comments = [user_1_com, user_2_com]\n",
    "comments_df = pd.concat(user_comments, ignore_index=True)\n",
    "comments_df.drop_duplicates(subset = 'comment', keep='last', inplace = True)"
   ]
  },
  {
   "cell_type": "code",
   "execution_count": 40,
   "metadata": {},
   "outputs": [
    {
     "name": "stdout",
     "output_type": "stream",
     "text": [
      "Shape Before Duplicate Dropping: 7262\n"
     ]
    }
   ],
   "source": [
    "print(f'Shape Before Duplicate Dropping: {comments_df.shape[0]}')"
   ]
  },
  {
   "cell_type": "code",
   "execution_count": 41,
   "metadata": {},
   "outputs": [
    {
     "data": {
      "text/html": [
       "<div>\n",
       "<style scoped>\n",
       "    .dataframe tbody tr th:only-of-type {\n",
       "        vertical-align: middle;\n",
       "    }\n",
       "\n",
       "    .dataframe tbody tr th {\n",
       "        vertical-align: top;\n",
       "    }\n",
       "\n",
       "    .dataframe thead th {\n",
       "        text-align: right;\n",
       "    }\n",
       "</style>\n",
       "<table border=\"1\" class=\"dataframe\">\n",
       "  <thead>\n",
       "    <tr style=\"text-align: right;\">\n",
       "      <th></th>\n",
       "      <th>Unnamed: 0</th>\n",
       "      <th>post_id</th>\n",
       "      <th>author</th>\n",
       "      <th>location</th>\n",
       "      <th>date</th>\n",
       "      <th>comment</th>\n",
       "    </tr>\n",
       "  </thead>\n",
       "  <tbody>\n",
       "    <tr>\n",
       "      <th>0</th>\n",
       "      <td>0</td>\n",
       "      <td>186113992</td>\n",
       "      <td>Gabe Dusenbury</td>\n",
       "      <td>• Hale</td>\n",
       "      <td>3 days ago</td>\n",
       "      <td>Not a great look, Park Hill!</td>\n",
       "    </tr>\n",
       "    <tr>\n",
       "      <th>1</th>\n",
       "      <td>1</td>\n",
       "      <td>186113992</td>\n",
       "      <td>Andrew Walvoord</td>\n",
       "      <td>• Hilltop</td>\n",
       "      <td>3 days ago</td>\n",
       "      <td>Why not? Why should the city be putting homele...</td>\n",
       "    </tr>\n",
       "    <tr>\n",
       "      <th>2</th>\n",
       "      <td>2</td>\n",
       "      <td>186113992</td>\n",
       "      <td>Jessica Wood</td>\n",
       "      <td>• Northeast Park Hill</td>\n",
       "      <td>3 days ago</td>\n",
       "      <td>I think we should have least been asked before...</td>\n",
       "    </tr>\n",
       "    <tr>\n",
       "      <th>3</th>\n",
       "      <td>3</td>\n",
       "      <td>186113992</td>\n",
       "      <td>Michelle W.</td>\n",
       "      <td>• Sheridan</td>\n",
       "      <td>3 days ago</td>\n",
       "      <td>What would your answer have been?</td>\n",
       "    </tr>\n",
       "    <tr>\n",
       "      <th>4</th>\n",
       "      <td>4</td>\n",
       "      <td>186113992</td>\n",
       "      <td>Celine Garrett</td>\n",
       "      <td>• South Park Hill</td>\n",
       "      <td>3 days ago</td>\n",
       "      <td>It’s called compassion people.</td>\n",
       "    </tr>\n",
       "    <tr>\n",
       "      <th>...</th>\n",
       "      <td>...</td>\n",
       "      <td>...</td>\n",
       "      <td>...</td>\n",
       "      <td>...</td>\n",
       "      <td>...</td>\n",
       "      <td>...</td>\n",
       "    </tr>\n",
       "    <tr>\n",
       "      <th>7344</th>\n",
       "      <td>10</td>\n",
       "      <td>122730087</td>\n",
       "      <td>Cat S.</td>\n",
       "      <td>• Cheesman Park</td>\n",
       "      <td>1y</td>\n",
       "      <td>If your building has a dumpster, you don't lik...</td>\n",
       "    </tr>\n",
       "    <tr>\n",
       "      <th>7345</th>\n",
       "      <td>11</td>\n",
       "      <td>122730087</td>\n",
       "      <td>Trevor Price</td>\n",
       "      <td>• City Park</td>\n",
       "      <td>5 Sep 19</td>\n",
       "      <td>If you are able to, you can also take it to AF...</td>\n",
       "    </tr>\n",
       "    <tr>\n",
       "      <th>7346</th>\n",
       "      <td>12</td>\n",
       "      <td>122730087</td>\n",
       "      <td>Kama Newell</td>\n",
       "      <td>• City Park</td>\n",
       "      <td>5 Sep 19</td>\n",
       "      <td>You can schedule a pick up with Spring Back Co...</td>\n",
       "    </tr>\n",
       "    <tr>\n",
       "      <th>7347</th>\n",
       "      <td>13</td>\n",
       "      <td>122730087</td>\n",
       "      <td>Katrina Weidknecht</td>\n",
       "      <td>• Congress Park</td>\n",
       "      <td>5 Sep 19</td>\n",
       "      <td>Carol Altvater https://www.springbackco.org</td>\n",
       "    </tr>\n",
       "    <tr>\n",
       "      <th>7348</th>\n",
       "      <td>14</td>\n",
       "      <td>122730087</td>\n",
       "      <td>Kevin Blaney</td>\n",
       "      <td>• Cheesman Park</td>\n",
       "      <td>5 Sep 19</td>\n",
       "      <td>Donate it to the homeless.</td>\n",
       "    </tr>\n",
       "  </tbody>\n",
       "</table>\n",
       "<p>7349 rows × 6 columns</p>\n",
       "</div>"
      ],
      "text/plain": [
       "      Unnamed: 0    post_id              author               location  \\\n",
       "0              0  186113992      Gabe Dusenbury                 • Hale   \n",
       "1              1  186113992     Andrew Walvoord              • Hilltop   \n",
       "2              2  186113992        Jessica Wood  • Northeast Park Hill   \n",
       "3              3  186113992         Michelle W.             • Sheridan   \n",
       "4              4  186113992      Celine Garrett      • South Park Hill   \n",
       "...          ...        ...                 ...                    ...   \n",
       "7344          10  122730087              Cat S.        • Cheesman Park   \n",
       "7345          11  122730087        Trevor Price            • City Park   \n",
       "7346          12  122730087         Kama Newell            • City Park   \n",
       "7347          13  122730087  Katrina Weidknecht        • Congress Park   \n",
       "7348          14  122730087        Kevin Blaney        • Cheesman Park   \n",
       "\n",
       "            date                                            comment  \n",
       "0     3 days ago                       Not a great look, Park Hill!  \n",
       "1     3 days ago  Why not? Why should the city be putting homele...  \n",
       "2     3 days ago  I think we should have least been asked before...  \n",
       "3     3 days ago                  What would your answer have been?  \n",
       "4     3 days ago                     It’s called compassion people.  \n",
       "...          ...                                                ...  \n",
       "7344          1y  If your building has a dumpster, you don't lik...  \n",
       "7345    5 Sep 19  If you are able to, you can also take it to AF...  \n",
       "7346    5 Sep 19  You can schedule a pick up with Spring Back Co...  \n",
       "7347    5 Sep 19        Carol Altvater https://www.springbackco.org  \n",
       "7348    5 Sep 19                         Donate it to the homeless.  \n",
       "\n",
       "[7349 rows x 6 columns]"
      ]
     },
     "execution_count": 41,
     "metadata": {},
     "output_type": "execute_result"
    }
   ],
   "source": [
    "user_2_com"
   ]
  },
  {
   "cell_type": "markdown",
   "metadata": {},
   "source": [
    "We need to remove the comments from the walmart posts that we dropped before. We can use the posts_to_drop list that we made earlier."
   ]
  },
  {
   "cell_type": "code",
   "execution_count": 42,
   "metadata": {},
   "outputs": [],
   "source": [
    "# use the list of posts to drop from before.\n",
    "comments_df = comments_df[~comments_df.post_id.isin(posts_to_drop)]\n",
    "comments_df.reset_index(inplace = True)"
   ]
  },
  {
   "cell_type": "code",
   "execution_count": 43,
   "metadata": {},
   "outputs": [
    {
     "data": {
      "text/plain": [
       "7262"
      ]
     },
     "execution_count": 43,
     "metadata": {},
     "output_type": "execute_result"
    }
   ],
   "source": [
    "comments_df.shape[0]"
   ]
  },
  {
   "cell_type": "markdown",
   "metadata": {},
   "source": [
    "Now we will create two columns in our posts data frame. One for the comments and another for post and comments together titled all_text. We will want to use all of the textual data from both the comments and the post for our topic model to account for the comments dialogues capacity to shift topics away from the content or the original post. "
   ]
  },
  {
   "cell_type": "code",
   "execution_count": 45,
   "metadata": {},
   "outputs": [],
   "source": [
    "posts_df['comments'] = np.nan"
   ]
  },
  {
   "cell_type": "code",
   "execution_count": 46,
   "metadata": {},
   "outputs": [
    {
     "name": "stderr",
     "output_type": "stream",
     "text": [
      "<ipython-input-46-855bea9906f1>:6: SettingWithCopyWarning: \n",
      "A value is trying to be set on a copy of a slice from a DataFrame\n",
      "\n",
      "See the caveats in the documentation: https://pandas.pydata.org/pandas-docs/stable/user_guide/indexing.html#returning-a-view-versus-a-copy\n",
      "  posts_df['comments'][i] = comments\n",
      "/home/t0ad/anaconda3/envs/work/lib/python3.8/site-packages/pandas/core/indexing.py:1637: SettingWithCopyWarning: \n",
      "A value is trying to be set on a copy of a slice from a DataFrame\n",
      "\n",
      "See the caveats in the documentation: https://pandas.pydata.org/pandas-docs/stable/user_guide/indexing.html#returning-a-view-versus-a-copy\n",
      "  self._setitem_single_block(indexer, value, name)\n"
     ]
    }
   ],
   "source": [
    "for i , post_id in enumerate(posts_df['post_id']):\n",
    "    comments = ''\n",
    "    for x, pid in enumerate(comments_df['post_id']):\n",
    "        if post_id == pid:\n",
    "            comments += comments_df['comment'][x] + '\\n'\n",
    "    posts_df['comments'][i] = comments"
   ]
  },
  {
   "cell_type": "code",
   "execution_count": 47,
   "metadata": {},
   "outputs": [
    {
     "data": {
      "text/html": [
       "<div>\n",
       "<style scoped>\n",
       "    .dataframe tbody tr th:only-of-type {\n",
       "        vertical-align: middle;\n",
       "    }\n",
       "\n",
       "    .dataframe tbody tr th {\n",
       "        vertical-align: top;\n",
       "    }\n",
       "\n",
       "    .dataframe thead th {\n",
       "        text-align: right;\n",
       "    }\n",
       "</style>\n",
       "<table border=\"1\" class=\"dataframe\">\n",
       "  <thead>\n",
       "    <tr style=\"text-align: right;\">\n",
       "      <th></th>\n",
       "      <th>level_0</th>\n",
       "      <th>index</th>\n",
       "      <th>Unnamed: 0</th>\n",
       "      <th>post_id</th>\n",
       "      <th>author</th>\n",
       "      <th>location</th>\n",
       "      <th>date</th>\n",
       "      <th>post</th>\n",
       "      <th>lemma</th>\n",
       "      <th>comments</th>\n",
       "    </tr>\n",
       "  </thead>\n",
       "  <tbody>\n",
       "    <tr>\n",
       "      <th>0</th>\n",
       "      <td>0</td>\n",
       "      <td>4</td>\n",
       "      <td>4</td>\n",
       "      <td>182941686</td>\n",
       "      <td>Beth Daoud</td>\n",
       "      <td>Congress Park</td>\n",
       "      <td>9 Apr</td>\n",
       "      <td>Squatters Camp. Am I the only one outraged by ...</td>\n",
       "      <td>outrage new squatter camp go 14th let allow ha...</td>\n",
       "      <td>Everybody \"Wants to help\". But heaven forbid i...</td>\n",
       "    </tr>\n",
       "    <tr>\n",
       "      <th>1</th>\n",
       "      <td>2</td>\n",
       "      <td>7</td>\n",
       "      <td>7</td>\n",
       "      <td>183611885</td>\n",
       "      <td>Crystal Weaver</td>\n",
       "      <td>City Park</td>\n",
       "      <td>15 Apr</td>\n",
       "      <td>Fires around town. Someone just tried to set t...</td>\n",
       "      <td>fire town try set tree house vicinity fire gas...</td>\n",
       "      <td>Thanks for the warning..that’s disturbing\\nI’m...</td>\n",
       "    </tr>\n",
       "    <tr>\n",
       "      <th>2</th>\n",
       "      <td>3</td>\n",
       "      <td>9</td>\n",
       "      <td>9</td>\n",
       "      <td>184321665</td>\n",
       "      <td>Bryn Creager</td>\n",
       "      <td>Congress Park</td>\n",
       "      <td>21 Apr</td>\n",
       "      <td>Brake in. On 4/19/21 at 2:05 AM a man broke in...</td>\n",
       "      <td>brake man break car park 6th steal garage door...</td>\n",
       "      <td>Looks like homeless goy on 14th and columbine\\...</td>\n",
       "    </tr>\n",
       "    <tr>\n",
       "      <th>3</th>\n",
       "      <td>4</td>\n",
       "      <td>10</td>\n",
       "      <td>10</td>\n",
       "      <td>184972043</td>\n",
       "      <td>Deb Christian</td>\n",
       "      <td>Hudson Street</td>\n",
       "      <td>27 Apr</td>\n",
       "      <td>It’s this whole thing of changing the housing ...</td>\n",
       "      <td>thing change housing code ask need</td>\n",
       "      <td></td>\n",
       "    </tr>\n",
       "    <tr>\n",
       "      <th>4</th>\n",
       "      <td>5</td>\n",
       "      <td>11</td>\n",
       "      <td>11</td>\n",
       "      <td>185372613</td>\n",
       "      <td>Doug Bohm</td>\n",
       "      <td>Congress Park</td>\n",
       "      <td>1 May</td>\n",
       "      <td>Homeless tent ablaze burning car &amp; property. L...</td>\n",
       "      <td>homeless tent ablaze burn car property night a...</td>\n",
       "      <td>Is this the same guy who panhandles on the sou...</td>\n",
       "    </tr>\n",
       "    <tr>\n",
       "      <th>...</th>\n",
       "      <td>...</td>\n",
       "      <td>...</td>\n",
       "      <td>...</td>\n",
       "      <td>...</td>\n",
       "      <td>...</td>\n",
       "      <td>...</td>\n",
       "      <td>...</td>\n",
       "      <td>...</td>\n",
       "      <td>...</td>\n",
       "      <td>...</td>\n",
       "    </tr>\n",
       "    <tr>\n",
       "      <th>742</th>\n",
       "      <td>926</td>\n",
       "      <td>1077</td>\n",
       "      <td>622</td>\n",
       "      <td>133490918</td>\n",
       "      <td>Barbara Acker</td>\n",
       "      <td>Lowry</td>\n",
       "      <td>2 Jan 20</td>\n",
       "      <td>donations for refugees? Where can I donate odd...</td>\n",
       "      <td>donation refugee donate odd household item ref...</td>\n",
       "      <td></td>\n",
       "    </tr>\n",
       "    <tr>\n",
       "      <th>743</th>\n",
       "      <td>928</td>\n",
       "      <td>1079</td>\n",
       "      <td>624</td>\n",
       "      <td>171163993</td>\n",
       "      <td>Dyron Manning</td>\n",
       "      <td>Montbello</td>\n",
       "      <td>17 Dec</td>\n",
       "      <td>Lost bulldogs. My Bulldogs got out of back yar...</td>\n",
       "      <td>lose bulldog bulldog get yard area white brown...</td>\n",
       "      <td></td>\n",
       "    </tr>\n",
       "    <tr>\n",
       "      <th>744</th>\n",
       "      <td>929</td>\n",
       "      <td>1080</td>\n",
       "      <td>625</td>\n",
       "      <td>150824551</td>\n",
       "      <td>Lexy Beltran</td>\n",
       "      <td>Northeast Park Hill</td>\n",
       "      <td>6 Jun</td>\n",
       "      <td>Patio chairs. Any one selling patio chairs or ...</td>\n",
       "      <td>patio chair sell patio chair know</td>\n",
       "      <td></td>\n",
       "    </tr>\n",
       "    <tr>\n",
       "      <th>745</th>\n",
       "      <td>930</td>\n",
       "      <td>1081</td>\n",
       "      <td>626</td>\n",
       "      <td>141292402</td>\n",
       "      <td>News</td>\n",
       "      <td>NaN</td>\n",
       "      <td>NaN</td>\n",
       "      <td>Denver sets sights on hundreds of respite room...</td>\n",
       "      <td>set sight hundred respite room people experien...</td>\n",
       "      <td>\"We recognize there are also people who are pr...</td>\n",
       "    </tr>\n",
       "    <tr>\n",
       "      <th>746</th>\n",
       "      <td>932</td>\n",
       "      <td>1083</td>\n",
       "      <td>628</td>\n",
       "      <td>151955996</td>\n",
       "      <td>Andrew Sweet</td>\n",
       "      <td>South Park Hill</td>\n",
       "      <td>17 Jun</td>\n",
       "      <td>Home Depot on Quebec st. Just FYI.  Though the...</td>\n",
       "      <td>employee compliant mask % customer maskless re...</td>\n",
       "      <td>Honestly I can see HD dilemma!  I've seen some...</td>\n",
       "    </tr>\n",
       "  </tbody>\n",
       "</table>\n",
       "<p>747 rows × 10 columns</p>\n",
       "</div>"
      ],
      "text/plain": [
       "     level_0  index  Unnamed: 0    post_id          author  \\\n",
       "0          0      4           4  182941686      Beth Daoud   \n",
       "1          2      7           7  183611885  Crystal Weaver   \n",
       "2          3      9           9  184321665    Bryn Creager   \n",
       "3          4     10          10  184972043   Deb Christian   \n",
       "4          5     11          11  185372613       Doug Bohm   \n",
       "..       ...    ...         ...        ...             ...   \n",
       "742      926   1077         622  133490918   Barbara Acker   \n",
       "743      928   1079         624  171163993   Dyron Manning   \n",
       "744      929   1080         625  150824551    Lexy Beltran   \n",
       "745      930   1081         626  141292402            News   \n",
       "746      932   1083         628  151955996    Andrew Sweet   \n",
       "\n",
       "                location      date  \\\n",
       "0          Congress Park     9 Apr   \n",
       "1              City Park    15 Apr   \n",
       "2          Congress Park    21 Apr   \n",
       "3          Hudson Street    27 Apr   \n",
       "4          Congress Park     1 May   \n",
       "..                   ...       ...   \n",
       "742                Lowry  2 Jan 20   \n",
       "743            Montbello    17 Dec   \n",
       "744  Northeast Park Hill     6 Jun   \n",
       "745                  NaN       NaN   \n",
       "746      South Park Hill    17 Jun   \n",
       "\n",
       "                                                  post  \\\n",
       "0    Squatters Camp. Am I the only one outraged by ...   \n",
       "1    Fires around town. Someone just tried to set t...   \n",
       "2    Brake in. On 4/19/21 at 2:05 AM a man broke in...   \n",
       "3    It’s this whole thing of changing the housing ...   \n",
       "4    Homeless tent ablaze burning car & property. L...   \n",
       "..                                                 ...   \n",
       "742  donations for refugees? Where can I donate odd...   \n",
       "743  Lost bulldogs. My Bulldogs got out of back yar...   \n",
       "744  Patio chairs. Any one selling patio chairs or ...   \n",
       "745  Denver sets sights on hundreds of respite room...   \n",
       "746  Home Depot on Quebec st. Just FYI.  Though the...   \n",
       "\n",
       "                                                 lemma  \\\n",
       "0    outrage new squatter camp go 14th let allow ha...   \n",
       "1    fire town try set tree house vicinity fire gas...   \n",
       "2    brake man break car park 6th steal garage door...   \n",
       "3                   thing change housing code ask need   \n",
       "4    homeless tent ablaze burn car property night a...   \n",
       "..                                                 ...   \n",
       "742  donation refugee donate odd household item ref...   \n",
       "743  lose bulldog bulldog get yard area white brown...   \n",
       "744                  patio chair sell patio chair know   \n",
       "745  set sight hundred respite room people experien...   \n",
       "746  employee compliant mask % customer maskless re...   \n",
       "\n",
       "                                              comments  \n",
       "0    Everybody \"Wants to help\". But heaven forbid i...  \n",
       "1    Thanks for the warning..that’s disturbing\\nI’m...  \n",
       "2    Looks like homeless goy on 14th and columbine\\...  \n",
       "3                                                       \n",
       "4    Is this the same guy who panhandles on the sou...  \n",
       "..                                                 ...  \n",
       "742                                                     \n",
       "743                                                     \n",
       "744                                                     \n",
       "745  \"We recognize there are also people who are pr...  \n",
       "746  Honestly I can see HD dilemma!  I've seen some...  \n",
       "\n",
       "[747 rows x 10 columns]"
      ]
     },
     "execution_count": 47,
     "metadata": {},
     "output_type": "execute_result"
    }
   ],
   "source": [
    "posts_df"
   ]
  },
  {
   "cell_type": "code",
   "execution_count": 48,
   "metadata": {},
   "outputs": [],
   "source": [
    "posts_df['all_text'] = posts_df['post'] + posts_df['comments']\n",
    "comments = posts_df['comments']\n",
    "comments = lemmatization(comments)\n",
    "posts_df['all_lemma'] = [ com for com in comments ]"
   ]
  },
  {
   "cell_type": "code",
   "execution_count": 49,
   "metadata": {},
   "outputs": [
    {
     "data": {
      "text/html": [
       "<div>\n",
       "<style scoped>\n",
       "    .dataframe tbody tr th:only-of-type {\n",
       "        vertical-align: middle;\n",
       "    }\n",
       "\n",
       "    .dataframe tbody tr th {\n",
       "        vertical-align: top;\n",
       "    }\n",
       "\n",
       "    .dataframe thead th {\n",
       "        text-align: right;\n",
       "    }\n",
       "</style>\n",
       "<table border=\"1\" class=\"dataframe\">\n",
       "  <thead>\n",
       "    <tr style=\"text-align: right;\">\n",
       "      <th></th>\n",
       "      <th>level_0</th>\n",
       "      <th>index</th>\n",
       "      <th>Unnamed: 0</th>\n",
       "      <th>post_id</th>\n",
       "      <th>author</th>\n",
       "      <th>location</th>\n",
       "      <th>date</th>\n",
       "      <th>post</th>\n",
       "      <th>lemma</th>\n",
       "      <th>comments</th>\n",
       "      <th>all_text</th>\n",
       "      <th>all_lemma</th>\n",
       "    </tr>\n",
       "  </thead>\n",
       "  <tbody>\n",
       "    <tr>\n",
       "      <th>0</th>\n",
       "      <td>0</td>\n",
       "      <td>4</td>\n",
       "      <td>4</td>\n",
       "      <td>182941686</td>\n",
       "      <td>Beth Daoud</td>\n",
       "      <td>Congress Park</td>\n",
       "      <td>9 Apr</td>\n",
       "      <td>Squatters Camp. Am I the only one outraged by ...</td>\n",
       "      <td>outrage new squatter camp go 14th let allow ha...</td>\n",
       "      <td>Everybody \"Wants to help\". But heaven forbid i...</td>\n",
       "      <td>Squatters Camp. Am I the only one outraged by ...</td>\n",
       "      <td>want help forbid show backyard want church exa...</td>\n",
       "    </tr>\n",
       "    <tr>\n",
       "      <th>1</th>\n",
       "      <td>2</td>\n",
       "      <td>7</td>\n",
       "      <td>7</td>\n",
       "      <td>183611885</td>\n",
       "      <td>Crystal Weaver</td>\n",
       "      <td>City Park</td>\n",
       "      <td>15 Apr</td>\n",
       "      <td>Fires around town. Someone just tried to set t...</td>\n",
       "      <td>fire town try set tree house vicinity fire gas...</td>\n",
       "      <td>Thanks for the warning..that’s disturbing\\nI’m...</td>\n",
       "      <td>Fires around town. Someone just tried to set t...</td>\n",
       "      <td>thank warning disturbing glad neighbor injure ...</td>\n",
       "    </tr>\n",
       "    <tr>\n",
       "      <th>2</th>\n",
       "      <td>3</td>\n",
       "      <td>9</td>\n",
       "      <td>9</td>\n",
       "      <td>184321665</td>\n",
       "      <td>Bryn Creager</td>\n",
       "      <td>Congress Park</td>\n",
       "      <td>21 Apr</td>\n",
       "      <td>Brake in. On 4/19/21 at 2:05 AM a man broke in...</td>\n",
       "      <td>brake man break car park 6th steal garage door...</td>\n",
       "      <td>Looks like homeless goy on 14th and columbine\\...</td>\n",
       "      <td>Brake in. On 4/19/21 at 2:05 AM a man broke in...</td>\n",
       "      <td>look homeless goy 14th sorry suck hope</td>\n",
       "    </tr>\n",
       "    <tr>\n",
       "      <th>3</th>\n",
       "      <td>4</td>\n",
       "      <td>10</td>\n",
       "      <td>10</td>\n",
       "      <td>184972043</td>\n",
       "      <td>Deb Christian</td>\n",
       "      <td>Hudson Street</td>\n",
       "      <td>27 Apr</td>\n",
       "      <td>It’s this whole thing of changing the housing ...</td>\n",
       "      <td>thing change housing code ask need</td>\n",
       "      <td></td>\n",
       "      <td>It’s this whole thing of changing the housing ...</td>\n",
       "      <td></td>\n",
       "    </tr>\n",
       "    <tr>\n",
       "      <th>4</th>\n",
       "      <td>5</td>\n",
       "      <td>11</td>\n",
       "      <td>11</td>\n",
       "      <td>185372613</td>\n",
       "      <td>Doug Bohm</td>\n",
       "      <td>Congress Park</td>\n",
       "      <td>1 May</td>\n",
       "      <td>Homeless tent ablaze burning car &amp; property. L...</td>\n",
       "      <td>homeless tent ablaze burn car property night a...</td>\n",
       "      <td>Is this the same guy who panhandles on the sou...</td>\n",
       "      <td>Homeless tent ablaze burning car &amp; property. L...</td>\n",
       "      <td>guy panhandle southwest intersection descripti...</td>\n",
       "    </tr>\n",
       "    <tr>\n",
       "      <th>...</th>\n",
       "      <td>...</td>\n",
       "      <td>...</td>\n",
       "      <td>...</td>\n",
       "      <td>...</td>\n",
       "      <td>...</td>\n",
       "      <td>...</td>\n",
       "      <td>...</td>\n",
       "      <td>...</td>\n",
       "      <td>...</td>\n",
       "      <td>...</td>\n",
       "      <td>...</td>\n",
       "      <td>...</td>\n",
       "    </tr>\n",
       "    <tr>\n",
       "      <th>742</th>\n",
       "      <td>926</td>\n",
       "      <td>1077</td>\n",
       "      <td>622</td>\n",
       "      <td>133490918</td>\n",
       "      <td>Barbara Acker</td>\n",
       "      <td>Lowry</td>\n",
       "      <td>2 Jan 20</td>\n",
       "      <td>donations for refugees? Where can I donate odd...</td>\n",
       "      <td>donation refugee donate odd household item ref...</td>\n",
       "      <td></td>\n",
       "      <td>donations for refugees? Where can I donate odd...</td>\n",
       "      <td></td>\n",
       "    </tr>\n",
       "    <tr>\n",
       "      <th>743</th>\n",
       "      <td>928</td>\n",
       "      <td>1079</td>\n",
       "      <td>624</td>\n",
       "      <td>171163993</td>\n",
       "      <td>Dyron Manning</td>\n",
       "      <td>Montbello</td>\n",
       "      <td>17 Dec</td>\n",
       "      <td>Lost bulldogs. My Bulldogs got out of back yar...</td>\n",
       "      <td>lose bulldog bulldog get yard area white brown...</td>\n",
       "      <td></td>\n",
       "      <td>Lost bulldogs. My Bulldogs got out of back yar...</td>\n",
       "      <td></td>\n",
       "    </tr>\n",
       "    <tr>\n",
       "      <th>744</th>\n",
       "      <td>929</td>\n",
       "      <td>1080</td>\n",
       "      <td>625</td>\n",
       "      <td>150824551</td>\n",
       "      <td>Lexy Beltran</td>\n",
       "      <td>Northeast Park Hill</td>\n",
       "      <td>6 Jun</td>\n",
       "      <td>Patio chairs. Any one selling patio chairs or ...</td>\n",
       "      <td>patio chair sell patio chair know</td>\n",
       "      <td></td>\n",
       "      <td>Patio chairs. Any one selling patio chairs or ...</td>\n",
       "      <td></td>\n",
       "    </tr>\n",
       "    <tr>\n",
       "      <th>745</th>\n",
       "      <td>930</td>\n",
       "      <td>1081</td>\n",
       "      <td>626</td>\n",
       "      <td>141292402</td>\n",
       "      <td>News</td>\n",
       "      <td>NaN</td>\n",
       "      <td>NaN</td>\n",
       "      <td>Denver sets sights on hundreds of respite room...</td>\n",
       "      <td>set sight hundred respite room people experien...</td>\n",
       "      <td>\"We recognize there are also people who are pr...</td>\n",
       "      <td>Denver sets sights on hundreds of respite room...</td>\n",
       "      <td>recognize people precariously house example ho...</td>\n",
       "    </tr>\n",
       "    <tr>\n",
       "      <th>746</th>\n",
       "      <td>932</td>\n",
       "      <td>1083</td>\n",
       "      <td>628</td>\n",
       "      <td>151955996</td>\n",
       "      <td>Andrew Sweet</td>\n",
       "      <td>South Park Hill</td>\n",
       "      <td>17 Jun</td>\n",
       "      <td>Home Depot on Quebec st. Just FYI.  Though the...</td>\n",
       "      <td>employee compliant mask % customer maskless re...</td>\n",
       "      <td>Honestly I can see HD dilemma!  I've seen some...</td>\n",
       "      <td>Home Depot on Quebec st. Just FYI.  Though the...</td>\n",
       "      <td>honestly dilemma see people react negatively i...</td>\n",
       "    </tr>\n",
       "  </tbody>\n",
       "</table>\n",
       "<p>747 rows × 12 columns</p>\n",
       "</div>"
      ],
      "text/plain": [
       "     level_0  index  Unnamed: 0    post_id          author  \\\n",
       "0          0      4           4  182941686      Beth Daoud   \n",
       "1          2      7           7  183611885  Crystal Weaver   \n",
       "2          3      9           9  184321665    Bryn Creager   \n",
       "3          4     10          10  184972043   Deb Christian   \n",
       "4          5     11          11  185372613       Doug Bohm   \n",
       "..       ...    ...         ...        ...             ...   \n",
       "742      926   1077         622  133490918   Barbara Acker   \n",
       "743      928   1079         624  171163993   Dyron Manning   \n",
       "744      929   1080         625  150824551    Lexy Beltran   \n",
       "745      930   1081         626  141292402            News   \n",
       "746      932   1083         628  151955996    Andrew Sweet   \n",
       "\n",
       "                location      date  \\\n",
       "0          Congress Park     9 Apr   \n",
       "1              City Park    15 Apr   \n",
       "2          Congress Park    21 Apr   \n",
       "3          Hudson Street    27 Apr   \n",
       "4          Congress Park     1 May   \n",
       "..                   ...       ...   \n",
       "742                Lowry  2 Jan 20   \n",
       "743            Montbello    17 Dec   \n",
       "744  Northeast Park Hill     6 Jun   \n",
       "745                  NaN       NaN   \n",
       "746      South Park Hill    17 Jun   \n",
       "\n",
       "                                                  post  \\\n",
       "0    Squatters Camp. Am I the only one outraged by ...   \n",
       "1    Fires around town. Someone just tried to set t...   \n",
       "2    Brake in. On 4/19/21 at 2:05 AM a man broke in...   \n",
       "3    It’s this whole thing of changing the housing ...   \n",
       "4    Homeless tent ablaze burning car & property. L...   \n",
       "..                                                 ...   \n",
       "742  donations for refugees? Where can I donate odd...   \n",
       "743  Lost bulldogs. My Bulldogs got out of back yar...   \n",
       "744  Patio chairs. Any one selling patio chairs or ...   \n",
       "745  Denver sets sights on hundreds of respite room...   \n",
       "746  Home Depot on Quebec st. Just FYI.  Though the...   \n",
       "\n",
       "                                                 lemma  \\\n",
       "0    outrage new squatter camp go 14th let allow ha...   \n",
       "1    fire town try set tree house vicinity fire gas...   \n",
       "2    brake man break car park 6th steal garage door...   \n",
       "3                   thing change housing code ask need   \n",
       "4    homeless tent ablaze burn car property night a...   \n",
       "..                                                 ...   \n",
       "742  donation refugee donate odd household item ref...   \n",
       "743  lose bulldog bulldog get yard area white brown...   \n",
       "744                  patio chair sell patio chair know   \n",
       "745  set sight hundred respite room people experien...   \n",
       "746  employee compliant mask % customer maskless re...   \n",
       "\n",
       "                                              comments  \\\n",
       "0    Everybody \"Wants to help\". But heaven forbid i...   \n",
       "1    Thanks for the warning..that’s disturbing\\nI’m...   \n",
       "2    Looks like homeless goy on 14th and columbine\\...   \n",
       "3                                                        \n",
       "4    Is this the same guy who panhandles on the sou...   \n",
       "..                                                 ...   \n",
       "742                                                      \n",
       "743                                                      \n",
       "744                                                      \n",
       "745  \"We recognize there are also people who are pr...   \n",
       "746  Honestly I can see HD dilemma!  I've seen some...   \n",
       "\n",
       "                                              all_text  \\\n",
       "0    Squatters Camp. Am I the only one outraged by ...   \n",
       "1    Fires around town. Someone just tried to set t...   \n",
       "2    Brake in. On 4/19/21 at 2:05 AM a man broke in...   \n",
       "3    It’s this whole thing of changing the housing ...   \n",
       "4    Homeless tent ablaze burning car & property. L...   \n",
       "..                                                 ...   \n",
       "742  donations for refugees? Where can I donate odd...   \n",
       "743  Lost bulldogs. My Bulldogs got out of back yar...   \n",
       "744  Patio chairs. Any one selling patio chairs or ...   \n",
       "745  Denver sets sights on hundreds of respite room...   \n",
       "746  Home Depot on Quebec st. Just FYI.  Though the...   \n",
       "\n",
       "                                             all_lemma  \n",
       "0    want help forbid show backyard want church exa...  \n",
       "1    thank warning disturbing glad neighbor injure ...  \n",
       "2               look homeless goy 14th sorry suck hope  \n",
       "3                                                       \n",
       "4    guy panhandle southwest intersection descripti...  \n",
       "..                                                 ...  \n",
       "742                                                     \n",
       "743                                                     \n",
       "744                                                     \n",
       "745  recognize people precariously house example ho...  \n",
       "746  honestly dilemma see people react negatively i...  \n",
       "\n",
       "[747 rows x 12 columns]"
      ]
     },
     "execution_count": 49,
     "metadata": {},
     "output_type": "execute_result"
    }
   ],
   "source": [
    "posts_df"
   ]
  },
  {
   "cell_type": "markdown",
   "metadata": {},
   "source": [
    "___\n",
    "___\n",
    "# Export\n",
    "___\n",
    "___"
   ]
  },
  {
   "cell_type": "code",
   "execution_count": 50,
   "metadata": {},
   "outputs": [],
   "source": [
    "posts_df.to_csv('../data/all_posts.csv', index = False)"
   ]
  },
  {
   "cell_type": "code",
   "execution_count": 51,
   "metadata": {},
   "outputs": [],
   "source": [
    "comments_df.to_csv('../data/all_comments.csv', index = False)"
   ]
  },
  {
   "cell_type": "markdown",
   "metadata": {},
   "source": [
    "___\n",
    "___\n",
    "___"
   ]
  }
 ],
 "metadata": {
  "kernelspec": {
   "display_name": "Python 3.8.2 64-bit ('work': conda)",
   "language": "python",
   "name": "python382jvsc74a57bd08696d3c135d391e67f0eae834eacd73bc5019c07a594ec3c835ec49a48ec6a4c"
  },
  "language_info": {
   "codemirror_mode": {
    "name": "ipython",
    "version": 3
   },
   "file_extension": ".py",
   "mimetype": "text/x-python",
   "name": "python",
   "nbconvert_exporter": "python",
   "pygments_lexer": "ipython3",
   "version": "3.8.8"
  },
  "metadata": {
   "interpreter": {
    "hash": "8696d3c135d391e67f0eae834eacd73bc5019c07a594ec3c835ec49a48ec6a4c"
   }
  }
 },
 "nbformat": 4,
 "nbformat_minor": 4
}
